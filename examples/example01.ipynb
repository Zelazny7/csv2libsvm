{
 "nbformat": 4,
 "nbformat_minor": 2,
 "metadata": {
  "language_info": {
   "name": "python",
   "codemirror_mode": {
    "name": "ipython",
    "version": 3
   },
   "version": "3.8.1-final"
  },
  "orig_nbformat": 2,
  "file_extension": ".py",
  "mimetype": "text/x-python",
  "name": "python",
  "npconvert_exporter": "python",
  "pygments_lexer": "ipython3",
  "version": 3,
  "kernelspec": {
   "name": "python3",
   "display_name": "Python 3"
  }
 },
 "cells": [
  {
   "cell_type": "markdown",
   "metadata": {},
   "source": [
    "### Example Usage from Module\n",
    "\n",
    "The following shows how one might use csv2libsvm to convert a csv file to libsvm format from a notebook or interative setting."
   ]
  },
  {
   "cell_type": "code",
   "execution_count": 4,
   "metadata": {},
   "outputs": [
    {
     "output_type": "execute_result",
     "data": {
      "text/plain": "   survived  pclass     sex   age  ...  deck  embark_town  alive  alone\n0         0       3    male  22.0  ...   NaN  Southampton     no  False\n1         1       1  female  38.0  ...     C    Cherbourg    yes  False\n2         1       3  female  26.0  ...   NaN  Southampton    yes   True\n3         1       1  female  35.0  ...     C  Southampton    yes  False\n4         0       3    male  35.0  ...   NaN  Southampton     no   True\n\n[5 rows x 15 columns]",
      "text/html": "<div>\n<style scoped>\n    .dataframe tbody tr th:only-of-type {\n        vertical-align: middle;\n    }\n\n    .dataframe tbody tr th {\n        vertical-align: top;\n    }\n\n    .dataframe thead th {\n        text-align: right;\n    }\n</style>\n<table border=\"1\" class=\"dataframe\">\n  <thead>\n    <tr style=\"text-align: right;\">\n      <th></th>\n      <th>survived</th>\n      <th>pclass</th>\n      <th>sex</th>\n      <th>age</th>\n      <th>sibsp</th>\n      <th>parch</th>\n      <th>fare</th>\n      <th>embarked</th>\n      <th>class</th>\n      <th>who</th>\n      <th>adult_male</th>\n      <th>deck</th>\n      <th>embark_town</th>\n      <th>alive</th>\n      <th>alone</th>\n    </tr>\n  </thead>\n  <tbody>\n    <tr>\n      <th>0</th>\n      <td>0</td>\n      <td>3</td>\n      <td>male</td>\n      <td>22.0</td>\n      <td>1</td>\n      <td>0</td>\n      <td>7.2500</td>\n      <td>S</td>\n      <td>Third</td>\n      <td>man</td>\n      <td>True</td>\n      <td>NaN</td>\n      <td>Southampton</td>\n      <td>no</td>\n      <td>False</td>\n    </tr>\n    <tr>\n      <th>1</th>\n      <td>1</td>\n      <td>1</td>\n      <td>female</td>\n      <td>38.0</td>\n      <td>1</td>\n      <td>0</td>\n      <td>71.2833</td>\n      <td>C</td>\n      <td>First</td>\n      <td>woman</td>\n      <td>False</td>\n      <td>C</td>\n      <td>Cherbourg</td>\n      <td>yes</td>\n      <td>False</td>\n    </tr>\n    <tr>\n      <th>2</th>\n      <td>1</td>\n      <td>3</td>\n      <td>female</td>\n      <td>26.0</td>\n      <td>0</td>\n      <td>0</td>\n      <td>7.9250</td>\n      <td>S</td>\n      <td>Third</td>\n      <td>woman</td>\n      <td>False</td>\n      <td>NaN</td>\n      <td>Southampton</td>\n      <td>yes</td>\n      <td>True</td>\n    </tr>\n    <tr>\n      <th>3</th>\n      <td>1</td>\n      <td>1</td>\n      <td>female</td>\n      <td>35.0</td>\n      <td>1</td>\n      <td>0</td>\n      <td>53.1000</td>\n      <td>S</td>\n      <td>First</td>\n      <td>woman</td>\n      <td>False</td>\n      <td>C</td>\n      <td>Southampton</td>\n      <td>yes</td>\n      <td>False</td>\n    </tr>\n    <tr>\n      <th>4</th>\n      <td>0</td>\n      <td>3</td>\n      <td>male</td>\n      <td>35.0</td>\n      <td>0</td>\n      <td>0</td>\n      <td>8.0500</td>\n      <td>S</td>\n      <td>Third</td>\n      <td>man</td>\n      <td>True</td>\n      <td>NaN</td>\n      <td>Southampton</td>\n      <td>no</td>\n      <td>True</td>\n    </tr>\n  </tbody>\n</table>\n</div>"
     },
     "metadata": {},
     "execution_count": 4
    }
   ],
   "source": [
    "from csv2libsvm import csv2libsvm\n",
    "import pandas as pd\n",
    "\n",
    "df = pd.read_csv('../titanic.csv', nrows=10)\n",
    "df.head()"
   ]
  },
  {
   "cell_type": "markdown",
   "metadata": {},
   "source": [
    "A typical workflow would have the modeler read in a sample of the csv file to understand the columns and their types. The output above shows several factor columns that neither libsvm nor xgboost know how to handle. By specifying which columns are factors, `csv2libsvm` will encode the string values of these columns with sequential integers based on their order of appearance.\n",
    "\n",
    "Specifying factor columns often isn't enough, however, as there are clearly some columns that are unfit for modeling altogether (e.g. account #s, names, addresses). Such columns should be listed in the `skip` argument. Alternatively, the user can specify exactly which columns to keep using the `keep` argument.\n",
    "\n",
    "Once the columns types have been investigated the user calls the function passing in the input file path and a directory to store the output contents like so:"
   ]
  },
  {
   "cell_type": "code",
   "execution_count": 5,
   "metadata": {},
   "outputs": [
    {
     "output_type": "stream",
     "name": "stderr",
     "text": "100%|██████████| 891/891 [00:00<00:00, 23445.98it/s]\n"
    }
   ],
   "source": [
    "csv2libsvm(\n",
    "    '../titanic.csv',\n",
    "    'xgboost-training',\n",
    "    target='survived',\n",
    "    factors=['pclass','sex','embarked'],\n",
    "    keep=['pclass','sex','age','sibsp','parch','fare','embarked'])"
   ]
  },
  {
   "cell_type": "markdown",
   "metadata": {},
   "source": [
    "### Output\n",
    "\n",
    "`csv2libsvm` will create several files in the output folder depending on the input arguments. The `split` argument allows the modeler to indicate a column that should be used to output multiple files. This is most commonly the case when a train/test/val split needs to be created. One file will be produced for each unique value in this column. For example, if the `split` column has the values `train` and `test`, two files will be created: `part-train.libsvm` and `part-test.libsvm`. If no `split` column is provided, only one libsvm file will be created: `part-full.libsvm`.\n",
    "\n",
    "In addition to creating files in the libsvm format, `csv2libsvm` also outputs a file of meta data called `meta.json`. This file records function arguments and most importantly, factor column mappings. This allows the user to apply the conversion on csv file to another. This might arise when two csv files need to be converted - one train and one test.\n",
    "\n"
   ]
  },
  {
   "cell_type": "markdown",
   "metadata": {},
   "source": [
    "### Using with xgboost\n",
    "\n",
    "The `xgboost` module understands the libsvm format. This allows xgboost to build models from disk-based datasets which may be necessary in some situations. Creation of an `xgboost.DMatrix` is as simple as passing in the path to the libsvm file."
   ]
  },
  {
   "cell_type": "code",
   "execution_count": 6,
   "metadata": {},
   "outputs": [
    {
     "output_type": "stream",
     "name": "stdout",
     "text": "[14:09:36] 891x8 matrix with 4772 entries loaded from xgboost-training/part-full.libsvm\n"
    }
   ],
   "source": [
    "import xgboost\n",
    "\n",
    "train = xgboost.DMatrix('xgboost-training/part-full.libsvm')\n",
    "\n",
    "params = {\n",
    "    'objective': 'binary:logitraw',\n",
    "    'eta': 0.1,\n",
    "    'tree_method': 'hist',\n",
    "    'min_child_weight': 5\n",
    "}\n",
    "\n",
    "mod = xgboost.train(params, dtrain=train, num_boost_round=100)"
   ]
  },
  {
   "cell_type": "code",
   "execution_count": null,
   "metadata": {},
   "outputs": [],
   "source": []
  }
 ]
}